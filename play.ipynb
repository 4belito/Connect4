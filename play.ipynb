{
 "cells": [
  {
   "cell_type": "markdown",
   "metadata": {},
   "source": [
    "# Play Connect Five"
   ]
  },
  {
   "cell_type": "code",
   "execution_count": 1,
   "metadata": {},
   "outputs": [],
   "source": [
    "from connect4 import Connect4Board"
   ]
  },
  {
   "cell_type": "markdown",
   "metadata": {},
   "source": [
    "## Game configuration"
   ]
  },
  {
   "cell_type": "code",
   "execution_count": 7,
   "metadata": {},
   "outputs": [],
   "source": [
    "Ngames=3 #Number of games \n",
    "ROWS, COLUMNS = 7, 8\n",
    "CONNECT_NUMBER,CYLINDER=5,True\n",
    "TIMEOUT_SETUP,TIMEOUT_MOVE=1,1 #in seconds"
   ]
  },
  {
   "cell_type": "markdown",
   "metadata": {},
   "source": [
    "#### Select players\n",
    "\n",
    "p1, p2 are the string names of the modules containing the player object.\n",
    "* If you have your own Player class in a file myplayer.py in the working directory, you can simply pass myplayer.\n",
    "* If your player is in a different module, then specify the class name like my_module/player_name\n",
    "* If the player is in a nested module. For example if you'd need to write from players.simple import Dumbo, then specify the player as players.simple/Dumbo."
   ]
  },
  {
   "cell_type": "code",
   "execution_count": 8,
   "metadata": {},
   "outputs": [],
   "source": [
    "p1 = 'dummies/Random'\n",
    "p2 = 'SmartRandom'\n",
    "#p2='human' #(increase TIME MOVE if your brain goes slower than a computer)\n",
    "#p2 = 'dummies/SmartRandom'\n",
    "#p2 = 'players.dummies/SmartRandom'\n",
    "#p2 = 'dummies/LazySmartRandom'  \n",
    "#p1 = 'dummies/DropLowest'"
   ]
  },
  {
   "cell_type": "markdown",
   "metadata": {},
   "source": [
    "## Play!!\n",
    "\n",
    "Player 1 plays with disc=1\\\n",
    "Player 2 plays with disc=-1\\\n",
    "Empty spots are marked with 0\\\n",
    "Final connected discs of Player 1 are marked with 2\\\n",
    "Final connected discs of Player 2 are marked with -2"
   ]
  },
  {
   "cell_type": "code",
   "execution_count": 9,
   "metadata": {},
   "outputs": [
    {
     "name": "stdout",
     "output_type": "stream",
     "text": [
      "Playing dummies/Random against SmartRandom\n",
      "Final Board: \n",
      "[[ 0 -1  0  0  0  0  0  0]\n",
      " [ 0 -1  0  1  0  0  0  0]\n",
      " [ 0  1  0  1  0  0  1  0]\n",
      " [ 0 -1  0  1  0  0 -1  0]\n",
      " [-1  1  1 -1  1  0 -1  0]\n",
      " [ 1  1  1 -1  1  0 -1 -1]\n",
      " [-1 -1  1  1 -1 -1  1 -1]]\n",
      "Moves: \n",
      "[2, 1, 1, 0, 6, 6, 1, 1, 3, 4, 1, 6, 0, 3, 4, 7, 4, 3, 2, 0, 3, 7, 2, 1, 3, 6, 3, 5, 6, 1]\n",
      "Winner: SmartRandom\n",
      "Reason: Invalid moves exceeded 0\n",
      "----------------------------------\n",
      "dummies/Random victories: 0\n",
      "SmartRandom victories: 1\n",
      "daws: 0\n",
      "----------------------------------\n",
      "Final Board: \n",
      "[[-1  0  0  0  0  0  0  0]\n",
      " [ 1  0  0  0  0  0  1  0]\n",
      " [ 1  0  0  0  0  0 -1  0]\n",
      " [-1  0  0  0 -1  0 -1  0]\n",
      " [ 1  0  0  0  1  0  1  0]\n",
      " [-1  0 -1  1 -1  1 -1  1]\n",
      " [ 1 -1  1 -1  1 -1  1 -1]]\n",
      "Moves: \n",
      "[4, 5, 6, 4, 5, 7, 4, 1, 0, 0, 0, 6, 6, 6, 2, 0, 0, 2, 0, 6, 7, 0, 6, 3, 3, 4]\n",
      "Winner: SmartRandom\n",
      "Reason: Invalid moves exceeded 0\n",
      "----------------------------------\n",
      "dummies/Random victories: 0\n",
      "SmartRandom victories: 2\n",
      "daws: 0\n",
      "----------------------------------\n",
      "Final Board: \n",
      "[[ 0  0  0  0  0  0  0  0]\n",
      " [ 0  0  0  0  0  0  0  0]\n",
      " [ 0  0  0  0  0  0  0  0]\n",
      " [ 0 -1  0  0  0  0  0  0]\n",
      " [ 0 -1  0  0  0  0  0  0]\n",
      " [ 0  1  0  0  0 -1  0  0]\n",
      " [ 0 -1  2  2  2  2  2 -1]]\n",
      "Moves: \n",
      "[5, 5, 4, 1, 1, 1, 6, 7, 2, 1, 3]\n",
      "Winner: dummies/Random\n",
      "Reason: Connect 5!\n",
      "----------------------------------\n",
      "dummies/Random victories: 1\n",
      "SmartRandom victories: 2\n",
      "daws: 0\n",
      "----------------------------------\n"
     ]
    }
   ],
   "source": [
    "print(f'Playing {p1} against {p2}')  \n",
    "w,d,l=0,0,0\n",
    "for i in range(Ngames):\n",
    "    game = Connect4Board(rows=ROWS, columns=COLUMNS,connect_number=CONNECT_NUMBER,cylinder=CYLINDER,\n",
    "        timeout_move=TIMEOUT_MOVE,timeout_setup=TIMEOUT_SETUP)\n",
    "    winner, reason, moves = game.play(p1, p2)\n",
    "    if winner==p1:\n",
    "        w+=1\n",
    "    elif winner==p2:\n",
    "        l+=1\n",
    "    else:\n",
    "        d+=1 \n",
    "    print(f'Final Board: \\n{game}')\n",
    "    print(f'Moves: \\n{moves}')\n",
    "\n",
    "    print('Winner: %s' % winner)\n",
    "    print('Reason: %s' % reason)\n",
    "    print('----------------------------------')\n",
    "    print(f'{p1} victories: {w}')\n",
    "    print(f'{p2} victories: {l}')\n",
    "    print(f'daws: {d}' )\n",
    "    print('----------------------------------')"
   ]
  },
  {
   "cell_type": "code",
   "execution_count": null,
   "metadata": {},
   "outputs": [],
   "source": []
  }
 ],
 "metadata": {
  "kernelspec": {
   "display_name": "clases",
   "language": "python",
   "name": "python3"
  },
  "language_info": {
   "codemirror_mode": {
    "name": "ipython",
    "version": 3
   },
   "file_extension": ".py",
   "mimetype": "text/x-python",
   "name": "python",
   "nbconvert_exporter": "python",
   "pygments_lexer": "ipython3",
   "version": "3.11.5"
  }
 },
 "nbformat": 4,
 "nbformat_minor": 2
}
