{
 "cells": [
  {
   "cell_type": "markdown",
   "metadata": {},
   "source": [
    "# Play Connect Five"
   ]
  },
  {
   "cell_type": "code",
   "execution_count": 11,
   "metadata": {},
   "outputs": [],
   "source": [
    "from connect4 import Connect4Board"
   ]
  },
  {
   "cell_type": "markdown",
   "metadata": {},
   "source": [
    "## Game configuration"
   ]
  },
  {
   "cell_type": "code",
   "execution_count": 12,
   "metadata": {},
   "outputs": [],
   "source": [
    "Ngames=3 #Number of games \n",
    "ROWS, COLUMNS = 7, 8\n",
    "CONNECT_NUMBER,CYLINDER=5,True\n",
    "TIMEOUT_SETUP,TIMEOUT_MOVE=1,1 #in seconds"
   ]
  },
  {
   "cell_type": "markdown",
   "metadata": {},
   "source": [
    "#### Select players\n",
    "\n",
    "p1, p2 are the string names of the modules containing the player object.\n",
    "* If you have your own Player class in a file myplayer.py in the working directory, you can simply pass myplayer.\n",
    "* If your player is in a different module, then specify the class name like my_module/player_name\n",
    "* If the player is in a nested module. For example if you'd need to write from players.simple import Dumbo, then specify the player as players.simple/Dumbo."
   ]
  },
  {
   "cell_type": "code",
   "execution_count": 13,
   "metadata": {},
   "outputs": [],
   "source": [
    "p1 = 'dummies/Random'\n",
    "p2 = 'SmartRandom'\n",
    "#p2='human' #(increase TIME MOVE if your brain goes slower than a computer)\n",
    "#p2 = 'dummies/SmartRandom'\n",
    "#p2 = 'players.dummies/SmartRandom'\n",
    "#p2 = 'dummies/LazySmartRandom'  \n",
    "#p1 = 'dummies/DropLowest'"
   ]
  },
  {
   "cell_type": "markdown",
   "metadata": {},
   "source": [
    "## Play!!\n",
    "\n",
    "Player 1 plays with disc=1\\\n",
    "Player 2 plays with disc=-1\\\n",
    "Empty spots are marked with 0\\\n",
    "Final connected discs of Player 1 are marked with 2\\\n",
    "Final connected discs of Player 2 are marked with -2"
   ]
  },
  {
   "cell_type": "code",
   "execution_count": 14,
   "metadata": {},
   "outputs": [
    {
     "name": "stdout",
     "output_type": "stream",
     "text": [
      "Playing dummies/Random against SmartRandom\n",
      "Final Board: \n",
      "[[ 0  0  0 -1  0  0  0  0]\n",
      " [ 2  0  0 -1  0  1  0 -1]\n",
      " [ 2  0  0  1  0  1  0  1]\n",
      " [ 2  0  0 -1  0 -1 -1  1]\n",
      " [ 2 -1  0  1 -1  1 -1 -1]\n",
      " [ 2 -1  0 -1 -1 -1  1  1]\n",
      " [-1 -1  0  1 -1  1  1  1]]\n",
      "Moves: \n",
      "[5, 4, 3, 3, 7, 5, 3, 3, 7, 0, 5, 7, 0, 1, 6, 1, 6, 4, 7, 6, 3, 5, 5, 3, 7, 1, 0, 3, 5, 6, 0, 7, 0, 4, 0]\n",
      "Winner: dummies/Random\n",
      "Reason: Connect 5!\n",
      "----------------------------------\n",
      "dummies/Random victories: 1\n",
      "SmartRandom victories: 0\n",
      "daws: 0\n",
      "----------------------------------\n",
      "Final Board: \n",
      "[[ 0  0  0  0  0  0  0  0]\n",
      " [ 0  0  0  0  0  0  0  0]\n",
      " [-1  2  0  0  0  0  0 -1]\n",
      " [ 2  1  0  0  0  0  0 -1]\n",
      " [-1  1  1 -1  1  0  0  2]\n",
      " [-1 -1 -1  1 -1  0  2  1]\n",
      " [-1  1  1 -1 -1  2  1 -1]]\n",
      "Moves: \n",
      "[6, 7, 7, 0, 5, 0, 6, 4, 1, 1, 2, 2, 7, 7, 2, 3, 1, 0, 0, 7, 1, 4, 3, 0, 4, 3, 1]\n",
      "Winner: dummies/Random\n",
      "Reason: Connect 5!\n",
      "----------------------------------\n",
      "dummies/Random victories: 2\n",
      "SmartRandom victories: 0\n",
      "daws: 0\n",
      "----------------------------------\n",
      "Final Board: \n",
      "[[ 1  0 -1  0  1 -1  1  0]\n",
      " [ 1  0 -1 -1 -1  1 -1  1]\n",
      " [ 1  0 -1  1  1 -1 -1  1]\n",
      " [-1  0  1 -1 -1 -1  1 -1]\n",
      " [ 1  1 -1  1 -1 -1  1 -1]\n",
      " [ 1 -1  1  1 -1  1 -1  1]\n",
      " [-1 -1  1  1 -1  1  1 -1]]\n",
      "Moves: \n",
      "[2, 0, 6, 6, 2, 7, 5, 4, 0, 4, 6, 4, 5, 4, 3, 5, 7, 7, 3, 7, 0, 0, 0, 1, 7, 2, 4, 5, 3, 5, 6, 6, 5, 3, 2, 1, 1, 4, 3, 2, 4, 6, 0, 2, 0, 5, 7, 3, 6, 2]\n",
      "Winner: SmartRandom\n",
      "Reason: Invalid moves exceeded 0\n",
      "----------------------------------\n",
      "dummies/Random victories: 2\n",
      "SmartRandom victories: 1\n",
      "daws: 0\n",
      "----------------------------------\n"
     ]
    }
   ],
   "source": [
    "print(f'Playing {p1} against {p2}')  \n",
    "w,d,l=0,0,0\n",
    "for i in range(Ngames):\n",
    "    game = Connect4Board(rows=ROWS, columns=COLUMNS,connect_number=CONNECT_NUMBER,cylinder=CYLINDER,\n",
    "        timeout_move=TIMEOUT_MOVE,timeout_setup=TIMEOUT_SETUP)\n",
    "    winner, reason, moves = game.play(p1, p2)\n",
    "    if winner==p1:\n",
    "        w+=1\n",
    "    elif winner==p2:\n",
    "        l+=1\n",
    "    else:\n",
    "        d+=1 \n",
    "    print(f'Final Board: \\n{game}')\n",
    "    print(f'Moves: \\n{moves}')\n",
    "\n",
    "    print('Winner: %s' % winner)\n",
    "    print('Reason: %s' % reason)\n",
    "    print('----------------------------------')\n",
    "    print(f'{p1} victories: {w}')\n",
    "    print(f'{p2} victories: {l}')\n",
    "    print(f'daws: {d}' )\n",
    "    print('----------------------------------')"
   ]
  },
  {
   "cell_type": "code",
   "execution_count": null,
   "metadata": {},
   "outputs": [],
   "source": []
  }
 ],
 "metadata": {
  "kernelspec": {
   "display_name": "clases",
   "language": "python",
   "name": "python3"
  },
  "language_info": {
   "codemirror_mode": {
    "name": "ipython",
    "version": 3
   },
   "file_extension": ".py",
   "mimetype": "text/x-python",
   "name": "python",
   "nbconvert_exporter": "python",
   "pygments_lexer": "ipython3",
   "version": "3.11.5"
  }
 },
 "nbformat": 4,
 "nbformat_minor": 2
}
